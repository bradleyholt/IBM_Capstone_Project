{
 "cells": [
  {
   "cell_type": "markdown",
   "metadata": {},
   "source": [
    "# TASK 1 - Read the data\n",
    "\n",
    "Let’s start with\n",
    "\n",
    "- Importing necessary libraries\n",
    "- Reading the data"
   ]
  },
  {
   "cell_type": "code",
   "execution_count": 1,
   "metadata": {},
   "outputs": [],
   "source": [
    "# Import required libraries\n",
    "import pandas as pd\n",
    "import plotly.graph_objects as go\n",
    "import dash\n",
    "from dash import dcc\n",
    "from dash import html\n",
    "from dash.dependencies import Input, Output\n",
    "import plotly.express as px\n",
    "\n",
    "# Read the airline data into pandas dataframe\n",
    "airline_data =  pd.read_csv('https://cf-courses-data.s3.us.cloud-object-storage.appdomain.cloud/IBMDeveloperSkillsNetwork-DV0101EN-SkillsNetwork/Data%20Files/airline_data.csv', \n",
    "                            encoding = \"ISO-8859-1\",\n",
    "                            dtype={'Div1Airport': str, 'Div1TailNum': str, \n",
    "                                   'Div2Airport': str, 'Div2TailNum': str})"
   ]
  },
  {
   "cell_type": "markdown",
   "metadata": {},
   "source": [
    "#- TASK 2 - Create dash application and get the layout skeleton\n",
    "\n",
    "Next, we create a skeleton for our dash application. Our dashboard application layout has three components as seen before:\n",
    "\n",
    "- Title of the application\n",
    "- Component to enter input year inside a layout division\n",
    "- 5 Charts conveying the different types of flight delay\n",
    "\n",
    "Mapping to the respective Dash HTML tags:\n",
    "\n",
    "- Title added using html.H1() tag\n",
    "- Layout division added using html.Div() and input component added using dcc.Input() tag inside the layout division.\n",
    "- 5 charts split into three segments. Each segment has a layout division added using html.Div() and chart added using dcc.Graph() tag inside the layout division."
   ]
  },
  {
   "cell_type": "code",
   "execution_count": 2,
   "metadata": {},
   "outputs": [
    {
     "ename": "SyntaxError",
     "evalue": "invalid syntax (946300014.py, line 20)",
     "output_type": "error",
     "traceback": [
      "\u001b[1;36m  Cell \u001b[1;32mIn[2], line 20\u001b[1;36m\u001b[0m\n\u001b[1;33m    html.Div(, style={'width': '65%'})\u001b[0m\n\u001b[1;37m             ^\u001b[0m\n\u001b[1;31mSyntaxError\u001b[0m\u001b[1;31m:\u001b[0m invalid syntax\n"
     ]
    }
   ],
   "source": [
    "# Create a dash application\n",
    "app = dash.Dash(__name__)\n",
    "\n",
    "# Build dash app layout\n",
    "app.layout = html.Div(children=[ html.H1(),\n",
    "                                html.Div([\"Input Year\", dcc.Input()],\n",
    "                                sytle={'font-size': 30}),\n",
    "                                html.Br(),\n",
    "                                html.Br(),\n",
    "                                html.Div()([\n",
    "                                    html.Div(),\n",
    "                                    html.Div()\n",
    "                                ], style={'display': 'flex'}),\n",
    "                                \n",
    "                                html.Div([\n",
    "                                    html.Div(),\n",
    "                                    html.Div()\n",
    "                                ], style={'display': 'flex'}),\n",
    "                                \n",
    "                                html.Div(, style={'width': '65%'})\n",
    "                                ])"
   ]
  },
  {
   "cell_type": "markdown",
   "metadata": {},
   "source": [
    "# TASK 3 - Update layout components\n",
    "\n",
    "## Application title\n",
    "\n",
    "- Title as Flight Delay Time Statistics, align text as center, color as #503D36, and font size as 30.\n",
    "\n",
    "## Input component\n",
    "\n",
    "- Update dcc.Input component id as input-year, default value as 2010, and type as number. Use style- parameter and assign height of the input box to be 35px and font-size to be 30.\n",
    "\n",
    "## Output component - Segment 1\n",
    "\n",
    "Segment 1 is the first html.Div(). We have two inner division where first two graphs will be placed\n",
    "\n",
    "### Skeleton"
   ]
  },
  {
   "cell_type": "code",
   "execution_count": null,
   "metadata": {},
   "outputs": [],
   "source": [
    "html.Div([\n",
    "          html.Div(),\n",
    "          html.Div()\n",
    "         ], style={'display': 'flex'}),"
   ]
  },
  {
   "cell_type": "markdown",
   "metadata": {},
   "source": [
    "## First inner division\n",
    "\n",
    "- Add dcc.Graph() component.\n",
    "- Update dcc.Graph component id as carrier-plot.\n",
    "\n",
    "## Second inner division\n",
    "\n",
    "- Add dcc.Graph() component.\n",
    "- Update dcc.Graph component id as weather-plot.\n",
    "\n",
    "## Output component - Segment 2\n",
    "\n",
    "Segment 2 is the second html.Div(). We have two inner division where the next two graphs will be placed.\n",
    "\n",
    "### Skeleton"
   ]
  },
  {
   "cell_type": "code",
   "execution_count": null,
   "metadata": {},
   "outputs": [],
   "source": [
    "html.Div([\n",
    "          html.Div(),\n",
    "          html.Div()\n",
    "         ], style={'display': 'flex'}),"
   ]
  },
  {
   "cell_type": "markdown",
   "metadata": {},
   "source": [
    "## First inner division\n",
    "\n",
    "- Add dcc.Graph() component.\n",
    "- Update dcc.Graph component id as nas-plot.\n",
    "\n",
    "## Second inner division\n",
    "\n",
    "- Add dcc.Graph() component.\n",
    "- Update dcc.Graph component id as security-plot.\n",
    "\n",
    "## Output component - Segment 3\n",
    "\n",
    "Segment 3 is the last html.Div().\n",
    "\n",
    "### Skeleton"
   ]
  },
  {
   "cell_type": "code",
   "execution_count": null,
   "metadata": {},
   "outputs": [],
   "source": [
    "html.Div(, style={'width':'65%'})"
   ]
  },
  {
   "cell_type": "markdown",
   "metadata": {},
   "source": [
    "# TASK 4 - Review and add supporting function\n",
    "\n",
    "Below is the function that gets input year and data, perform computation for creating charts and plots"
   ]
  },
  {
   "cell_type": "code",
   "execution_count": null,
   "metadata": {},
   "outputs": [],
   "source": [
    "\"\"\" Compute_info function description\n",
    "\n",
    "This function takes in airline data and selected year as an input and performs computation for creating charts and plots.\n",
    "\n",
    "Arguments:\n",
    "    airline_data: Input airline data.\n",
    "    entered_year: Input year for which computation needs to be performed.\n",
    "    \n",
    "Returns:\n",
    "    Computed average dataframes for carrier delay, weather delay, NAS delay, security delay, and late aircraft delay.\n",
    "\n",
    "\"\"\"\n",
    "def compute_info(airline_data, entered_year):\n",
    "    # Select data\n",
    "    df =  airline_data[airline_data['Year']==int(entered_year)]\n",
    "    # Compute delay averages\n",
    "    avg_car = df.groupby(['Month','Reporting_Airline'])['CarrierDelay'].mean().reset_index()\n",
    "    avg_weather = df.groupby(['Month','Reporting_Airline'])['WeatherDelay'].mean().reset_index()\n",
    "    avg_NAS = df.groupby(['Month','Reporting_Airline'])['NASDelay'].mean().reset_index()\n",
    "    avg_sec = df.groupby(['Month','Reporting_Airline'])['SecurityDelay'].mean().reset_index()\n",
    "    avg_late = df.groupby(['Month','Reporting_Airline'])['LateAircraftDelay'].mean().reset_index()\n",
    "    return avg_car, avg_weather, avg_NAS, avg_sec, avg_late"
   ]
  },
  {
   "cell_type": "markdown",
   "metadata": {},
   "source": [
    "# TASK 5 - Add the application callback function\n",
    "\n",
    "The core idea of this application is to get year as user input and update the dashboard in real-time. We will be using callback function for the same.\n",
    "\n",
    "Steps:\n",
    "\n",
    "- Define the callback decorator\n",
    "- Define the callback function that uses the input provided to perform the computation\n",
    "- Create graph and return it as an output\n",
    "- Run the application"
   ]
  },
  {
   "cell_type": "code",
   "execution_count": null,
   "metadata": {},
   "outputs": [],
   "source": [
    "# Callback decorator\n",
    "@app.callback( [\n",
    "               Output(component_id='carrier-plot', component_property='figure'),\n",
    "               ---\n",
    "               --- \n",
    "               ---\n",
    "               ---\n",
    "               ],\n",
    "               Input(....))\n",
    "# Computation to callback function and return graph\n",
    "def get_graph(entered_year):\n",
    "    \n",
    "    # Compute required information for creating graph from the data\n",
    "    avg_car, avg_weather, avg_NAS, avg_sec, avg_late = compute_info(airline_data, entered_year)\n",
    "            \n",
    "    # Line plot for carrier delay\n",
    "    carrier_fig = px.line(avg_car, x='Month', y='CarrierDelay', color='Reporting_Airline', title='Average carrier delay time (minutes) by airline')\n",
    "    # Line plot for weather delay\n",
    "    weather_fig = ------\n",
    "    # Line plot for nas delay\n",
    "    nas_fig = ------\n",
    "    # Line plot for security delay\n",
    "    sec_fig = ------\n",
    "    # Line plot for late aircraft delay\n",
    "    late_fig = ------\n",
    "            \n",
    "    return[carrier_fig, weather_fig, nas_fig, sec_fig, late_fig]\n",
    "\n",
    "# Run the app\n",
    "if __name__ == '__main__':\n",
    "    app.run_server()"
   ]
  },
  {
   "cell_type": "markdown",
   "metadata": {},
   "source": [
    "# TASK 6 - Update the callback function\n",
    "## Callback decorator\n",
    "\n",
    "- Refer examples provided here\n",
    "- We have 5 output components added in a list. Update output component id parameter with the ids provided in the dcc.Graph() component and set the component property as figure. One sample has been added to the skeleton.\n",
    "- Update input component id parameter with the id provided in the dcc.Input() component and component property as value.\n",
    "\n",
    "## Callback function\n",
    "\n",
    "Next is to update the get_graph function. We have already added a function compute_info that will perform computation on the data using the input.\n",
    "\n",
    "Mapping the returned value from the function compute_info to graph:\n",
    "\n",
    "- avg_car - input for carrier delay\n",
    "- avg_weather - input for weather delay\n",
    "- avg_NAS - input for NAS delay\n",
    "- avg_sec - input for security delay\n",
    "- avg_late - input for late aircraft delay\n",
    "\n",
    "Code has been provided for plotting carrier delay. Follow the same process and use the above mapping to get plots for other 4 delays."
   ]
  },
  {
   "cell_type": "code",
   "execution_count": 6,
   "metadata": {},
   "outputs": [
    {
     "name": "stdout",
     "output_type": "stream",
     "text": [
      "Dash is running on http://127.0.0.1:8050/\n",
      "\n",
      "Dash is running on http://127.0.0.1:8050/\n",
      "\n",
      "Dash is running on http://127.0.0.1:8050/\n",
      "\n",
      " * Serving Flask app '__main__'\n",
      " * Debug mode: off\n"
     ]
    },
    {
     "name": "stderr",
     "output_type": "stream",
     "text": [
      "WARNING: This is a development server. Do not use it in a production deployment. Use a production WSGI server instead.\n",
      " * Running on http://127.0.0.1:8050\n",
      "Press CTRL+C to quit\n",
      "127.0.0.1 - - [17/Dec/2023 20:24:48] \"GET / HTTP/1.1\" 200 -\n",
      "127.0.0.1 - - [17/Dec/2023 20:24:48] \"GET /_dash-layout HTTP/1.1\" 200 -\n",
      "127.0.0.1 - - [17/Dec/2023 20:24:48] \"GET /_dash-dependencies HTTP/1.1\" 200 -\n",
      "127.0.0.1 - - [17/Dec/2023 20:24:48] \"GET /_favicon.ico?v=2.7.0 HTTP/1.1\" 200 -\n",
      "127.0.0.1 - - [17/Dec/2023 20:24:48] \"GET /_dash-component-suites/dash/dcc/async-graph.js HTTP/1.1\" 304 -\n",
      "127.0.0.1 - - [17/Dec/2023 20:24:48] \"GET /_dash-component-suites/dash/dcc/async-plotlyjs.js HTTP/1.1\" 304 -\n",
      "127.0.0.1 - - [17/Dec/2023 20:24:50] \"POST /_dash-update-component HTTP/1.1\" 200 -\n",
      "127.0.0.1 - - [17/Dec/2023 20:25:04] \"POST /_dash-update-component HTTP/1.1\" 200 -\n",
      "127.0.0.1 - - [17/Dec/2023 20:25:04] \"POST /_dash-update-component HTTP/1.1\" 200 -\n",
      "127.0.0.1 - - [17/Dec/2023 20:25:06] \"POST /_dash-update-component HTTP/1.1\" 200 -\n",
      "127.0.0.1 - - [17/Dec/2023 20:25:07] \"POST /_dash-update-component HTTP/1.1\" 200 -\n"
     ]
    }
   ],
   "source": [
    "# Import required libraries\n",
    "import pandas as pd\n",
    "import plotly.graph_objects as go\n",
    "import dash\n",
    "from dash import dcc\n",
    "from dash import html\n",
    "from dash.dependencies import Input, Output\n",
    "import plotly.express as px\n",
    "\n",
    "# Read the airline data into pandas dataframe\n",
    "airline_data =  pd.read_csv('https://cf-courses-data.s3.us.cloud-object-storage.appdomain.cloud/IBMDeveloperSkillsNetwork-DV0101EN-SkillsNetwork/Data%20Files/airline_data.csv', \n",
    "                            encoding = \"ISO-8859-1\",\n",
    "                            dtype={'Div1Airport': str, 'Div1TailNum': str, \n",
    "                                   'Div2Airport': str, 'Div2TailNum': str})\n",
    "\n",
    "# Create a dash application\n",
    "app = dash.Dash(__name__)\n",
    "\n",
    "# Build dash app layout\n",
    "app.layout = html.Div(children=[ html.H1('Flight Delay Time Statistics',\n",
    "                                         style={'textAlign': 'center', 'color': '#503D36',\n",
    "                                                'font-size': 30}),\n",
    "                                html.Div([\"Input Year: \", dcc.Input(id='input-year', value='2010',\n",
    "                                                                    type='number', style={'height':'35px', 'font-size': 30})],\n",
    "                                         style={'font-size': 30}),\n",
    "                                html.Br(),\n",
    "                                html.Br(),\n",
    "                                #Segment 1\n",
    "                                html.Div([\n",
    "                                    html.Div(dcc.Graph(id='carrier-plot')),\n",
    "                                    html.Div(dcc.Graph(id='weather-plot'))\n",
    "                                ], style={'display': 'flex'}),\n",
    "                                #Segment 2\n",
    "                                html.Div([\n",
    "                                    html.Div(dcc.Graph(id='nas-plot')),\n",
    "                                    html.Div(dcc.Graph(id='security-plot'))\n",
    "                                ], style={'display': 'flex'}),\n",
    "                                #Segment 3\n",
    "                                html.Div(dcc.Graph(id='late-plot'), style={'width': '65%'})\n",
    "                                ])\n",
    "\n",
    "\"\"\" Compute_info function description\n",
    "\n",
    "This function takes in airline data and selected year as an input and performs computation for creating charts and plots.\n",
    "\n",
    "Arguments:\n",
    "    airline_data: Input airline data.\n",
    "    entered_year: Input year for which computation needs to be performed.\n",
    "    \n",
    "Returns:\n",
    "    Computed average dataframes for carrier delay, weather delay, NAS delay, security delay, and late aircraft delay.\n",
    "\n",
    "\"\"\"\n",
    "def compute_info(airline_data, entered_year):\n",
    "    # Select data\n",
    "    df =  airline_data[airline_data['Year']==int(entered_year)]\n",
    "    # Compute delay averages\n",
    "    avg_car = df.groupby(['Month','Reporting_Airline'])['CarrierDelay'].mean().reset_index()\n",
    "    avg_weather = df.groupby(['Month','Reporting_Airline'])['WeatherDelay'].mean().reset_index()\n",
    "    avg_NAS = df.groupby(['Month','Reporting_Airline'])['NASDelay'].mean().reset_index()\n",
    "    avg_sec = df.groupby(['Month','Reporting_Airline'])['SecurityDelay'].mean().reset_index()\n",
    "    avg_late = df.groupby(['Month','Reporting_Airline'])['LateAircraftDelay'].mean().reset_index()\n",
    "    return avg_car, avg_weather, avg_NAS, avg_sec, avg_late\n",
    "\n",
    "# Callback decorator\n",
    "@app.callback( [\n",
    "               Output(component_id='carrier-plot', component_property='figure'),\n",
    "               Output(component_id='weather-plot', component_property='figure'),\n",
    "               Output(component_id='nas-plot', component_property='figure'),\n",
    "               Output(component_id='security-plot', component_property='figure'),\n",
    "               Output(component_id='late-plot', component_property='figure')\n",
    "               ],\n",
    "               Input(component_id='input-year', component_property='value'))\n",
    "\n",
    "# Computation to callback function and return graph\n",
    "def get_graph(entered_year):\n",
    "    \n",
    "    # Compute required information for creating graph from the data\n",
    "    avg_car, avg_weather, avg_NAS, avg_sec, avg_late = compute_info(airline_data, entered_year)\n",
    "            \n",
    "    # Line plot for carrier delay\n",
    "    carrier_fig = px.line(avg_car, x='Month', y='CarrierDelay', color='Reporting_Airline', title='Average carrier delay time (minutes) by airline')\n",
    "    # Line plot for weather delay\n",
    "    weather_fig = px.line(avg_weather, x='Month', y='WeatherDelay', color='Reporting_Airline', title='Average weather delay time (minutes) by airline')\n",
    "    # Line plot for nas delay\n",
    "    nas_fig = px.line(avg_NAS, x='Month', y='NASDelay', color='Reporting_Airline', title='Average NAS delay time (minutes) by airline')\n",
    "    # Line plot for security delay\n",
    "    sec_fig = px.line(avg_sec, x='Month', y='SecurityDelay', color='Reporting_Airline', title='Average security delay time (minutes) by airline')\n",
    "    # Line plot for late aircraft delay\n",
    "    late_fig = px.line(avg_late, x='Month', y='LateAircraftDelay', color='Reporting_Airline', title='Average late aircraft delay time (minutes) by airline')\n",
    "            \n",
    "    return[carrier_fig, weather_fig, nas_fig, sec_fig, late_fig]\n",
    "\n",
    "# Run the app\n",
    "if __name__ == '__main__':\n",
    "    app.run_server()"
   ]
  },
  {
   "cell_type": "code",
   "execution_count": null,
   "metadata": {},
   "outputs": [],
   "source": []
  }
 ],
 "metadata": {
  "kernelspec": {
   "display_name": "venv_IBM",
   "language": "python",
   "name": "python3"
  },
  "language_info": {
   "codemirror_mode": {
    "name": "ipython",
    "version": 3
   },
   "file_extension": ".py",
   "mimetype": "text/x-python",
   "name": "python",
   "nbconvert_exporter": "python",
   "pygments_lexer": "ipython3",
   "version": "3.12.0"
  }
 },
 "nbformat": 4,
 "nbformat_minor": 2
}
