{
 "cells": [
  {
   "cell_type": "markdown",
   "metadata": {},
   "source": [
    "# TASK 1 - Read the data\n",
    "Here you will be:\n",
    "\n",
    "- Importing necessary libraries\n",
    "- Reading the data from a CSV file\n",
    "\n",
    "In this exercise we require the following libraries :\n",
    "- pandas\n",
    "- plotly\n",
    "- dash\n",
    "- dash_html_components\n",
    "- dash_core_components\n",
    "- dash.dependencies"
   ]
  },
  {
   "cell_type": "code",
   "execution_count": 2,
   "metadata": {},
   "outputs": [],
   "source": [
    "#We will first import these libraries\n",
    "import pandas as pd\n",
    "import plotly.graph_objects as go\n",
    "import dash\n",
    "from dash import dcc\n",
    "from dash import html\n",
    "from dash.dependencies import Input, Output"
   ]
  },
  {
   "cell_type": "code",
   "execution_count": 3,
   "metadata": {},
   "outputs": [],
   "source": [
    "airline_data =  pd.read_csv('https://cf-courses-data.s3.us.cloud-object-storage.appdomain.cloud/IBMDeveloperSkillsNetwork-DV0101EN-SkillsNetwork/Data%20Files/airline_data.csv', \n",
    "                            encoding = \"ISO-8859-1\",\n",
    "                            dtype={'Div1Airport': str, 'Div1TailNum': str, \n",
    "                                    'Div2Airport': str, 'Div2TailNum': str})"
   ]
  },
  {
   "cell_type": "markdown",
   "metadata": {},
   "source": [
    "\n",
    "The above code reads a CSV file called airline_data.csv from a URL using pandas, a popular data analysis library in Python.\n",
    "The file is encoded using ISO-8859-1 character encoding, which is a standard way of representing characters in the file.\n",
    "We defined data type of specific columns such as (Div1Airport, Div1TailNum, Div2Airport, and Div2TailNum) to be strings, which ensures that these columns are read as text instead of numbers.\n",
    "The resulting data is stored in a pandas dataframe object called airline_data, which can be used for further analysis."
   ]
  },
  {
   "cell_type": "markdown",
   "metadata": {},
   "source": [
    "# TASK 2 - Create dash application and get the layout\n",
    "\n",
    "Next, we create a skeleton for our dash application. Overall this layout creates a simple container with a heading, an input field, and some empty space.\n",
    "\n",
    "In the upcoming tasks, you can modify and add new components and styles to the basic layout provided. This will allow you to customize and enhance the user interface of your Dash app to meet your specific needs and requirements as follows:\n",
    "\n",
    "- First we will define an application app.layout.\n",
    "- Create a heading using html.h1() and add style information within the divison html.Div().\n",
    "- Create a inner division using html.Div() function for adding input and output components such as: \n",
    "    - Input: label, dropdown input-year and style parameters\n",
    "    - Output: type of Graph line-plot\n"
   ]
  },
  {
   "cell_type": "code",
   "execution_count": 6,
   "metadata": {},
   "outputs": [
    {
     "name": "stdout",
     "output_type": "stream",
     "text": [
      "Dash is running on http://127.0.0.1:8050/\n",
      "\n",
      "Dash is running on http://127.0.0.1:8050/\n",
      "\n",
      "Dash is running on http://127.0.0.1:8050/\n",
      "\n",
      " * Serving Flask app '__main__'\n",
      " * Debug mode: off\n"
     ]
    },
    {
     "name": "stderr",
     "output_type": "stream",
     "text": [
      "WARNING: This is a development server. Do not use it in a production deployment. Use a production WSGI server instead.\n",
      " * Running on http://127.0.0.1:8050\n",
      "Press CTRL+C to quit\n"
     ]
    },
    {
     "name": "stderr",
     "output_type": "stream",
     "text": [
      "127.0.0.1 - - [16/Dec/2023 20:19:32] \"GET / HTTP/1.1\" 200 -\n",
      "127.0.0.1 - - [16/Dec/2023 20:19:33] \"GET /_dash-layout HTTP/1.1\" 200 -\n",
      "127.0.0.1 - - [16/Dec/2023 20:19:33] \"GET /_dash-dependencies HTTP/1.1\" 200 -\n"
     ]
    }
   ],
   "source": [
    "# Create a dash application layout\n",
    "app = dash.Dash(__name__)\n",
    "\n",
    "# Get the layout of the application and adjust it.\n",
    "# Create an outer division using html.Div and add title to the dashboard using html.H1 component\n",
    "# Add a html.Div and core input text component\n",
    "# Finally, add graph component.\n",
    "app.layout = html.Div(children=[html.H1('Airline Performance Dashboard',\n",
    "                                        style={'textAlign': 'center', 'color': '#503D36', 'font-size': 40}),\n",
    "                                html.Div([\"Input Year\", dcc.Input(),], \n",
    "                                style={}),\n",
    "                                html.Br(),\n",
    "                                html.Br(),\n",
    "                                html.Div(),\n",
    "                                ])\n",
    "\n",
    "# Run the app\n",
    "if __name__ == '__main__':\n",
    "    app.run_server()"
   ]
  },
  {
   "cell_type": "markdown",
   "metadata": {},
   "source": [
    "## Mapping to the respective Dash HTML tags:\n",
    "### Application title add using html.H1() tag\n",
    "\n",
    "- Heading reference: Plotly H1 HTML Component\n",
    "- Title as Airline Performance Dashboard\n",
    "- Use style parameter for the title and make it center aligned, with color code #503D36, and font-size as 40. Check More about HTML section [here](https://dash.plotly.com/layout)."
   ]
  },
  {
   "cell_type": "markdown",
   "metadata": {},
   "source": [
    "## Input and Output components of layout\n",
    "### Input component\n",
    "\n",
    "- As our input is a dropdown showing a list of years we will use the dcc.Input() function. We define the following parameters\n",
    "    - id: input-year, which is a unique identifier for this specific input field. The default value for this input field will be set to 2010, and the type of input will be a number.\n",
    "- style parameter for the dropdown: Here within it we define’heightof the input box to be50pxandfont-sizeto be35` to make the text larger and more readable.\n",
    "- style parameter for the whole division: Now assign font-size as 40 .\n",
    "\n",
    "### Output component\n",
    "\n",
    "- Add dcc.Graph() component to the second division.\n",
    "- Update dcc.Graph component id as line-plot."
   ]
  },
  {
   "cell_type": "code",
   "execution_count": null,
   "metadata": {},
   "outputs": [],
   "source": [
    "# Import required libraries\n",
    "import pandas as pd\n",
    "import plotly.graph_objects as go\n",
    "import dash\n",
    "from dash import dcc\n",
    "from dash import html\n",
    "from dash.dependencies import Input, Output\n",
    "# Read the airline data into pandas dataframe\n",
    "airline_data =  pd.read_csv('https://cf-courses-data.s3.us.cloud-object-storage.appdomain.cloud/IBMDeveloperSkillsNetwork-DV0101EN-SkillsNetwork/Data%20Files/airline_data.csv', \n",
    "                            encoding = \"ISO-8859-1\",\n",
    "                            dtype={'Div1Airport': str, 'Div1TailNum': str, \n",
    "                                   'Div2Airport': str, 'Div2TailNum': str})\n",
    "# Create a dash application\n",
    "app = dash.Dash(__name__)\n",
    "                               \n",
    "app.layout = html.Div(children=[ html.H1('Airline Performance Dashboard',style={'textAlign': 'center', 'color': '#503D36', 'font-size': 40}),\n",
    "                                html.Div([\"Input Year: \", dcc.Input(id='input-year', \n",
    "                                                                    value='2010', \n",
    "                                                                    type='number', \n",
    "                                                                    style={'height':'50px', 'font-size': 35})], \n",
    "                                style={'font-size': 40}),\n",
    "                                html.Br(),\n",
    "                                html.Br(),\n",
    "                                html.Div(dcc.Graph(id='line-plot')),\n",
    "                                ])\n",
    "\n",
    "# Run the app\n",
    "if __name__ == '__main__':\n",
    "    app.run_server()"
   ]
  },
  {
   "cell_type": "markdown",
   "metadata": {},
   "source": [
    "# TASK 3 - Add the application callback function\n",
    "## Callback\n",
    "\n",
    "In Python, @app.callback is a decorator used in the Dash framework to specify that a function should be called when an input component changes its value.The Input and Output functions are used to define the inputs and outputs of a callback function.\n",
    "\n",
    "The core idea of this application is to get year as user input(input function) and update the dashboard(output function) in real-time with the help of callback function.\n",
    "\n",
    "Steps:\n",
    "- Define the callback decorator\n",
    "- Define the callback function that uses the input provided to perform the computation\n",
    "- Create graph and return it as an output\n",
    "\n",
    "The below code is base structure for calback decorator and function graph. "
   ]
  },
  {
   "cell_type": "code",
   "execution_count": null,
   "metadata": {},
   "outputs": [],
   "source": [
    "# add callback decorator\n",
    "@app.callback(Output(),\n",
    "               Input())\n",
    "\n",
    "# Add computation to callback function and return graph\n",
    "def get_graph(entered_year):\n",
    "    # Select data based on the entered year\n",
    "    df =  airline_data[airline_data['Year']==int(entered_year)]\n",
    "    \n",
    "    # Group the data by Month and compute the average over arrival delay time.\n",
    "    line_data = df.groupby('Month')['ArrDelay'].mean().reset_index()\n",
    "    \n",
    "    # \n",
    "    fig = go.Figure(data=)\n",
    "    fig.update_layout()\n",
    "    return fig\n",
    "\n",
    "# Run the app\n",
    "if __name__ == '__main__':\n",
    "    app.run_server()"
   ]
  },
  {
   "cell_type": "markdown",
   "metadata": {},
   "source": [
    "## Update the callback function\n",
    "### Callback decorator\n",
    "\n",
    "- Refer to examples provided here\n",
    "\n",
    "- Input() function takes two parameters:\n",
    "    - component-id with the value input-year, which is the ID of the input dropdown.\n",
    "    - component_property being accessed is the value property, which represents the year entered by the user.\n",
    "\n",
    "- Output()function takes two parameters:\n",
    "    - component-id with the value line-plot, which is the id of the output.\n",
    "    - component_property being modified is the figure property, which specifies the data and layout of the line plot.\n",
    "\n",
    "### Callback function\n",
    "\n",
    "- Update data parameter of the go.Figure() with the scatter plot. Refer here. Sample syntax below:"
   ]
  },
  {
   "cell_type": "code",
   "execution_count": null,
   "metadata": {},
   "outputs": [],
   "source": [
    "go.Scatter(x='----', y='----', mode='-----', marker='----)"
   ]
  },
  {
   "cell_type": "markdown",
   "metadata": {},
   "source": [
    "In the go.Scatter() update the parameter as below:\n",
    "\n",
    "- Update x as line_data['Month']\n",
    "\n",
    "- Update y as line_data['ArrDelay']\n",
    "\n",
    "- Update mode as lines, and marker as dict(color='green')\n",
    "\n",
    "- Update fig.update_layout with title, xaxis_title, and yaxis_title parameters.\n",
    "    - Title as Month vs Average Flight Delay Time\n",
    "    - xaxis_title as Month\n",
    "    - yaxis_title as ArrDelay\n",
    "    - Refer the updated layout function here.\n",
    "\n",
    "Refer to the full python code of dash_interactivity.py below:"
   ]
  },
  {
   "cell_type": "code",
   "execution_count": null,
   "metadata": {},
   "outputs": [],
   "source": [
    "# Import required libraries\n",
    "import pandas as pd\n",
    "import plotly.graph_objects as go\n",
    "import dash\n",
    "from dash import dcc\n",
    "from dash import html\n",
    "from dash.dependencies import Input, Output\n",
    "\n",
    "# Read the airline data into the pandas dataframe\n",
    "airline_data =  pd.read_csv('https://cf-courses-data.s3.us.cloud-object-storage.appdomain.cloud/IBMDeveloperSkillsNetwork-DV0101EN-SkillsNetwork/Data%20Files/airline_data.csv', \n",
    "                            encoding = \"ISO-8859-1\",\n",
    "                            dtype={'Div1Airport': str, 'Div1TailNum': str, \n",
    "                                   'Div2Airport': str, 'Div2TailNum': str})\n",
    "# Create a dash application\n",
    "app = dash.Dash(__name__)\n",
    "                               \n",
    "app.layout = html.Div(children=[ html.H1('Airline Performance Dashboard',style={'textAlign': 'center', 'color': '#503D36', 'font-size': 40}),\n",
    "                                html.Div([\"Input Year: \", dcc.Input(id='input-year', value='2010', \n",
    "                                type='number', style={'height':'50px', 'font-size': 35}),], \n",
    "                                style={'font-size': 40}),\n",
    "                                html.Br(),\n",
    "                                html.Br(),\n",
    "                                html.Div(dcc.Graph(id='line-plot')),\n",
    "                                ])\n",
    "\n",
    "# add callback decorator\n",
    "@app.callback( Output(component_id='line-plot', component_property='figure'),\n",
    "               Input(component_id='input-year', component_property='value'))\n",
    "\n",
    "# Add computation to callback function and return graph\n",
    "def get_graph(entered_year):\n",
    "    # Select 2019 data\n",
    "    df =  airline_data[airline_data['Year']==int(entered_year)]\n",
    "    \n",
    "    # Group the data by Month and compute average over arrival delay time.\n",
    "    line_data = df.groupby('Month')['ArrDelay'].mean().reset_index()\n",
    "\n",
    "    fig = go.Figure(data=go.Scatter(x=line_data['Month'], y=line_data['ArrDelay'], mode='lines', marker=dict(color='green')))\n",
    "    fig.update_layout(title='Month vs Average Flight Delay Time', xaxis_title='Month', yaxis_title='ArrDelay')\n",
    "    return fig\n",
    "\n",
    "# Run the app\n",
    "if __name__ == '__main__':\n",
    "    app.run_server()"
   ]
  }
 ],
 "metadata": {
  "kernelspec": {
   "display_name": "venv_IBM",
   "language": "python",
   "name": "python3"
  },
  "language_info": {
   "codemirror_mode": {
    "name": "ipython",
    "version": 3
   },
   "file_extension": ".py",
   "mimetype": "text/x-python",
   "name": "python",
   "nbconvert_exporter": "python",
   "pygments_lexer": "ipython3",
   "version": "3.12.0"
  }
 },
 "nbformat": 4,
 "nbformat_minor": 2
}
